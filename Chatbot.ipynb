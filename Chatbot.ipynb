{
 "cells": [
  {
   "cell_type": "markdown",
   "id": "a9183228-0ba6-4af9-8430-649e28868253",
   "metadata": {
    "id": "a9183228-0ba6-4af9-8430-649e28868253"
   },
   "source": [
    "# The Chatbot\n",
    "\n",
    "## Setup"
   ]
  },
  {
   "cell_type": "code",
   "execution_count": null,
   "id": "7fa0d9b5",
   "metadata": {
    "tags": [],
    "id": "7fa0d9b5",
    "outputId": "ab7d5a8a-f205-4eb5-8f34-6e7a21bf2e29",
    "colab": {
     "base_uri": "https://localhost:8080/",
     "height": 373
    }
   },
   "outputs": [],
   "source": [
    "import openai\n",
    "\n",
    "openai.api_key = \"\"  # insert your openai.api_key"
   ]
  },
  {
   "cell_type": "code",
   "execution_count": null,
   "id": "f5308d65",
   "metadata": {
    "tags": [],
    "id": "f5308d65"
   },
   "outputs": [],
   "source": [
    "# Some functions to interact with chatGPT\n",
    "\n",
    "def get_completion(prompt, model=\"gpt-3.5-turbo\"):\n",
    "    messages = [{\"role\": \"user\", \"content\": prompt}]\n",
    "    response = openai.ChatCompletion.create(\n",
    "        model=model,\n",
    "        messages=messages,\n",
    "        temperature=0,  # this is the degree of randomness of the model's output\n",
    "    )\n",
    "    return response.choices[0].message[\"content\"]\n",
    "\n",
    "\n",
    "def get_completion_from_messages(messages, model=\"gpt-3.5-turbo\", temperature=0):\n",
    "    response = openai.ChatCompletion.create(\n",
    "        model=model,\n",
    "        messages=messages,\n",
    "        temperature=temperature,  # this is the degree of randomness of the model's output\n",
    "    )\n",
    "    #     print(str(response.choices[0].message))\n",
    "    return response.choices[0].message[\"content\"]\n",
    "\n",
    "\n",
    "def collect_messages(_):\n",
    "    prompt = inp.value_input\n",
    "    inp.value = ''\n",
    "    context.append({'role': 'user', 'content': f\"{prompt}\"})\n",
    "    response = get_completion_from_messages(context)\n",
    "    context.append({'role': 'assistant', 'content': f\"{response}\"})\n",
    "    panels.append(\n",
    "        pn.Row('User:', pn.pane.Markdown(prompt, width=600)))\n",
    "    panels.append(\n",
    "        pn.Row('Assistant:', pn.pane.Markdown(response, width=600, style={'background-color': '#F6F6F6'})))\n",
    "\n",
    "    return pn.Column(*panels)"
   ]
  },
  {
   "cell_type": "code",
   "execution_count": null,
   "id": "474b557c",
   "metadata": {
    "tags": [],
    "id": "474b557c"
   },
   "outputs": [],
   "source": [
    "import panel as pn  # GUI\n",
    "\n",
    "pn.extension()\n",
    "\n",
    "panels = []  # collect display\n",
    "\n",
    "context = [{'role': 'system', 'content': \"\"\"\n",
    "You are OrderBot, an automated service to collect order for a car and you and you give advice on buying a car. \\\n",
    "You first greet the customer, then you ask if he wants to buy or lease a car, \\\n",
    "and then you ask how high the price may be, respectively the leasing rate. \\\n",
    "Also ask what type of propulsion is wanted and if there are any other wishes. \\\n",
    "You wait to collect the entire information, then summarize it and check for a final \\\n",
    "time if the customer wants to add anything else. \\\n",
    "Then you suggest suitable cars and together with the customer you find the most suitable car. \\\n",
    "You respond in a short, very conversational friendly style. \\\n",
    "Here are the possible cars listed: \\\n",
    "\n",
    "Model S: (Manufacturer: Tesla, propulsion: electric, reach: 600 km, maximum speed: 322 km/h, power: 1.020 PS, price:\n",
    "105490, monthly leasing rate: 1029) \\\n",
    "\n",
    "Model 3: (Manufacturer: Tesla, propulsion: electric, reach: 491 km, maximum speed: 225 km/h, price:\n",
    "41990, monthly leasing rate: 371) \\\n",
    "\n",
    "Model X: (Manufacturer: Tesla, propulsion: electric, reach: 576 km, maximum speed: 250 km/h, power: 1.020 PS, price:\n",
    "113490, monthly leasing rate: 1106) \\\n",
    "\n",
    "Model Y: (Manufacturer: Tesla, propulsion: electric, reach: 533 km, maximum speed: 217 km/h, price:\n",
    "44890, monthly leasing rate: 368) \\\n",
    "\n",
    "BMW iX: (Manufacturer: BMW, propulsion: electric, reach: 435 km, power: 326 PS, price:\n",
    "77300, monthly leasing rate: 885) \\\n",
    "\n",
    "BMW 840i Coupé: (Manufacturer: BMW, propulsion: fuel, power: 333 PS, price:\n",
    "106700, monthly leasing rate: 1292) \\\n",
    "\n",
    "IONIQ 5: (Manufacturer: Hyundai, propulsion: electric, price: 43900 \\\n",
    "\n",
    "Golf: (Manufacturer: VW, propulsion: fuel, price: 31145) \\\n",
    "\"\"\"}]  # more cars must be added\n",
    "\n",
    "inp = pn.widgets.TextInput(value=\"Hi\", placeholder='Enter text here…')\n",
    "button_conversation = pn.widgets.Button(name=\"Chat!\")\n",
    "\n",
    "interactive_conversation = pn.bind(collect_messages, button_conversation)\n",
    "\n",
    "dashboard = pn.Column(\n",
    "    inp,\n",
    "    pn.Row(button_conversation),\n",
    "    pn.panel(interactive_conversation, loading_indicator=True, height=300),\n",
    ")\n",
    "\n",
    "dashboard"
   ]
  },
  {
   "cell_type": "code",
   "execution_count": null,
   "id": "a0ee11b9",
   "metadata": {
    "id": "a0ee11b9"
   },
   "outputs": [],
   "source": [
    "# Create summary\n",
    "\n",
    "messages = context.copy()\n",
    "messages.append(\n",
    "    {'role': 'system', 'content': 'create a json summary of the previous conversation. \\\n",
    "The fields should be 1) car name 2) manufacturer name 3) leasing yes/no 4) price or monthly leasing rate'},\n",
    ")\n",
    "# The fields should be 1) pizza, price 2) list of toppings 3) list of drinks, include size include price  4) list of sides include size include price, 5)total price '},\n",
    "\n",
    "response = get_completion_from_messages(messages, temperature=0)\n",
    "print(response)"
   ]
  }
 ],
 "metadata": {
  "kernelspec": {
   "display_name": "Python 3 (ipykernel)",
   "language": "python",
   "name": "python3"
  },
  "language_info": {
   "codemirror_mode": {
    "name": "ipython",
    "version": 3
   },
   "file_extension": ".py",
   "mimetype": "text/x-python",
   "name": "python",
   "nbconvert_exporter": "python",
   "pygments_lexer": "ipython3",
   "version": "3.10.9"
  },
  "colab": {
   "provenance": []
  }
 },
 "nbformat": 4,
 "nbformat_minor": 5
}
